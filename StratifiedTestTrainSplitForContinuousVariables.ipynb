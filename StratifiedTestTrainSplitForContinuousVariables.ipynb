{
 "cells": [
  {
   "cell_type": "markdown",
   "metadata": {},
   "source": [
    "# Stratified Train/Test split for continuous variables\n",
    "\n",
    "To build a robust Regression model (e.g. Linear Regression, Random Forest Regressor, XGB Regressor) it is paramount to use cross validation and tuning. Even then the model may overfit on the training set and not generalise to the test set. This is often due to the train and test dataset not having the same distribution.\n",
    "\n",
    "For classification one can use StratifiedShuffleSplit (https://scikit-learn.org/stable/modules/generated/sklearn.model_selection.StratifiedShuffleSplit.html) to avoid this issue. Sadly `sklearn` has not implemented this Class for continuous target variables yet. \n",
    "\n",
    "Below you can find my code which takes a continuous target variable and splits it into 10 bins based on quantiles (i.e. the lowest 10% of numbers are bin=0, etc.). These bin definitions can then be injested by `train_test_split` to split the dataset into `y_train` and `y_test` which have the same distribution."
   ]
  },
  {
   "cell_type": "code",
   "execution_count": 1,
   "metadata": {
    "collapsed": false
   },
   "outputs": [],
   "source": [
    "# import relevant packages\n",
    "import numpy as np\n",
    "import pandas as pd\n",
    "import matplotlib.pyplot as plt\n",
    "%matplotlib inline\n",
    "from scipy.stats import ks_2samp\n",
    "from sklearn.model_selection import train_test_split"
   ]
  },
  {
   "cell_type": "markdown",
   "metadata": {},
   "source": [
    "#### Dataframes\n",
    "\n",
    "Create demo dataframe with 100,000 rows and 6 columns, where target variable (`y`) is exponential. \n",
    "I plotted the distribution to illustrate."
   ]
  },
  {
   "cell_type": "code",
   "execution_count": 2,
   "metadata": {
    "collapsed": false
   },
   "outputs": [
    {
     "data": {
      "image/png": "[encoded data removed]",
      "text/plain": [
       "<Figure size 432x288 with 1 Axes>"
      ]
     },
     "metadata": {},
     "output_type": "display_data"
    }
   ],
   "source": [
    "X = pd.DataFrame(np.random.rand(100000,5))\n",
    "y = pd.Series(np.random.exponential(range(100000), 100000))\n",
    "\n",
    "plt.hist(y, bins = 100)\n",
    "plt.title('Exponential Distribution', fontsize=12)\n",
    "plt.xlim([0,500000]);"
   ]
  },
  {
   "cell_type": "markdown",
   "metadata": {},
   "source": [
    "#### Quantiles\n",
    "Splitting `y` into 10 bins based on quantiles."
   ]
  },
  {
   "cell_type": "code",
   "execution_count": 3,
   "metadata": {
    "collapsed": false,
    "scrolled": true
   },
   "outputs": [
    {
     "data": {
      "text/plain": [
       "(0    0\n",
       " 1    0\n",
       " 2    0\n",
       " 3    0\n",
       " 4    0\n",
       " dtype: int64, 99995    8\n",
       " 99996    7\n",
       " 99997    6\n",
       " 99998    3\n",
       " 99999    9\n",
       " dtype: int64)"
      ]
     },
     "execution_count": 3,
     "metadata": {},
     "output_type": "execute_result"
    }
   ],
   "source": [
    "quantile_bins = pd.qcut(y, q=10, precision=1, labels=False)\n",
    "quantile_bins.head(), quantile_bins.tail()"
   ]
  },
  {
   "cell_type": "markdown",
   "metadata": {},
   "source": [
    "#### Train / Test split\n",
    "Use `train_test_split` to split the dataset into train and test set."
   ]
  },
  {
   "cell_type": "code",
   "execution_count": 4,
   "metadata": {
    "collapsed": false
   },
   "outputs": [],
   "source": [
    "X_train, X_test, y_train, y_test = train_test_split(X, y, \n",
    "                                                    test_size=0.3, \n",
    "                                                    random_state=42, \n",
    "                                                    stratify = quantile_bins)"
   ]
  },
  {
   "cell_type": "markdown",
   "metadata": {},
   "source": [
    "#### Train / Test distribution\n",
    "\n",
    "Use Kolmogorov-Smirnov statistic on 2 samples (https://docs.scipy.org/doc/scipy-0.14.0/reference/generated/scipy.stats.ks_2samp.html) to determine if `y_train` and `y_test` have the same distribution. The higher `p`, the better."
   ]
  },
  {
   "cell_type": "code",
   "execution_count": 5,
   "metadata": {
    "collapsed": false
   },
   "outputs": [
    {
     "name": "stdout",
     "output_type": "stream",
     "text": [
      "statistic: 0.002580952380952385 \n",
      "p_value: 0.9989952158999355\n"
     ]
    }
   ],
   "source": [
    "stats, p = ks_2samp(y_train, y_test)\n",
    "print('statistic:', stats, '\\np_value:', p)\n",
    "assert p >= 0.95"
   ]
  },
  {
   "cell_type": "code",
   "execution_count": null,
   "metadata": {
    "collapsed": true
   },
   "outputs": [],
   "source": []
  }
 ],
 "metadata": {
  "kernelspec": {
   "display_name": "Python 3",
   "language": "python",
   "name": "python3"
  },
  "language_info": {
   "codemirror_mode": {
    "name": "ipython",
    "version": 3
   },
   "file_extension": ".py",
   "mimetype": "text/x-python",
   "name": "python",
   "nbconvert_exporter": "python",
   "pygments_lexer": "ipython3",
   "version": "3.6.5"
  }
 },
 "nbformat": 4,
 "nbformat_minor": 2
}
